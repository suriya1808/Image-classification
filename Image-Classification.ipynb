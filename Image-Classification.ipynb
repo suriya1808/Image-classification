{
 "cells": [
  {
   "cell_type": "code",
   "execution_count": 1,
   "metadata": {},
   "outputs": [],
   "source": [
    "#importing the required libraries\n",
    "import tensorflow\n",
    "from tensorflow.keras.preprocessing.image import ImageDataGenerator\n",
    "from tensorflow.keras.layers import Conv2D\n",
    "from tensorflow.keras.layers import MaxPool2D\n",
    "from tensorflow.keras.layers import Dense\n",
    "from tensorflow.keras.regularizers import l2\n",
    "from tensorflow.keras.models import Sequential"
   ]
  },
  {
   "cell_type": "code",
   "execution_count": 2,
   "metadata": {},
   "outputs": [
    {
     "name": "stdout",
     "output_type": "stream",
     "text": [
      "Found 8005 images belonging to 2 classes.\n"
     ]
    }
   ],
   "source": [
    "#reading the training dataset using ImageDataGenerator\n",
    "train_datagen = ImageDataGenerator(rescale = 1./255,\n",
    "                                   shear_range = 0.2,\n",
    "                                   zoom_range = 0.2,\n",
    "                                   horizontal_flip = True)\n",
    "\n",
    "training_set = train_datagen.flow_from_directory('D:dataset/training_set/training_set',\n",
    "                                                 target_size = (64, 64),\n",
    "                                                 batch_size = 32,\n",
    "                                                 class_mode = 'binary')\n",
    "#sice it is a binary classification class_mode is given as 'binary'"
   ]
  },
  {
   "cell_type": "code",
   "execution_count": 3,
   "metadata": {},
   "outputs": [
    {
     "name": "stdout",
     "output_type": "stream",
     "text": [
      "Found 2023 images belonging to 2 classes.\n"
     ]
    }
   ],
   "source": [
    "#reading the test dataset using ImageDataGenerator\n",
    "test_datagen = ImageDataGenerator(rescale = 1./255,\n",
    "                                 shear_range = 0.2,\n",
    "                                   zoom_range = 0.2,\n",
    "                                   horizontal_flip = True)\n",
    "test_set = test_datagen.flow_from_directory('D:dataset/test_set/test_set',\n",
    "                                            target_size = (64, 64),\n",
    "                                            batch_size = 32,\n",
    "                                            class_mode = 'binary')"
   ]
  },
  {
   "cell_type": "code",
   "execution_count": 4,
   "metadata": {},
   "outputs": [],
   "source": [
    "#creating the model\n",
    "#first define the sequential model\n",
    "cnn = Sequential()\n",
    "\n",
    "#adding the first convolutional layer and the maxpool layer\n",
    "cnn.add(Conv2D(filters=32,kernel_size=2, activation='relu', strides=2, input_shape=[64, 64, 3]))\n",
    "cnn.add(MaxPool2D(pool_size=2, strides=2))\n",
    "\n",
    "#adding the second convolutional layer and the second maxpool layer\n",
    "cnn.add(Conv2D(filters=32,kernel_size=2, activation='relu'))\n",
    "cnn.add(MaxPool2D(pool_size=2, strides=2))\n",
    "\n",
    "#flattening the processed images\n",
    "cnn.add(tensorflow.keras.layers.Flatten())\n",
    "\n",
    "#full connection of the layers\n",
    "cnn.add(Dense(units = 128 , activation ='sigmoid')) \n",
    "\n",
    "#adding output layer to the model\n",
    "cnn.add(Dense(1, kernel_regularizer=tensorflow.keras.regularizers.l2(0.01),activation='linear'))"
   ]
  },
  {
   "cell_type": "code",
   "execution_count": 5,
   "metadata": {},
   "outputs": [
    {
     "name": "stdout",
     "output_type": "stream",
     "text": [
      "Model: \"sequential\"\n",
      "_________________________________________________________________\n",
      "Layer (type)                 Output Shape              Param #   \n",
      "=================================================================\n",
      "conv2d (Conv2D)              (None, 32, 32, 32)        416       \n",
      "_________________________________________________________________\n",
      "max_pooling2d (MaxPooling2D) (None, 16, 16, 32)        0         \n",
      "_________________________________________________________________\n",
      "conv2d_1 (Conv2D)            (None, 15, 15, 32)        4128      \n",
      "_________________________________________________________________\n",
      "max_pooling2d_1 (MaxPooling2 (None, 7, 7, 32)          0         \n",
      "_________________________________________________________________\n",
      "flatten (Flatten)            (None, 1568)              0         \n",
      "_________________________________________________________________\n",
      "dense (Dense)                (None, 128)               200832    \n",
      "_________________________________________________________________\n",
      "dense_1 (Dense)              (None, 1)                 129       \n",
      "=================================================================\n",
      "Total params: 205,505\n",
      "Trainable params: 205,505\n",
      "Non-trainable params: 0\n",
      "_________________________________________________________________\n"
     ]
    }
   ],
   "source": [
    "#to see the summary of the craeted model\n",
    "cnn.summary()"
   ]
  },
  {
   "cell_type": "code",
   "execution_count": 6,
   "metadata": {},
   "outputs": [],
   "source": [
    "#compiling\n",
    "cnn.compile(optimizer='adam',loss='hinge',metrics='accuracy')"
   ]
  },
  {
   "cell_type": "code",
   "execution_count": 7,
   "metadata": {},
   "outputs": [
    {
     "name": "stdout",
     "output_type": "stream",
     "text": [
      "Epoch 1/10\n",
      "251/251 [==============================] - 254s 1s/step - loss: 0.9470 - accuracy: 0.5412 - val_loss: 0.8144 - val_accuracy: 0.6377\n",
      "Epoch 2/10\n",
      "251/251 [==============================] - 87s 345ms/step - loss: 0.7923 - accuracy: 0.6234 - val_loss: 0.7432 - val_accuracy: 0.6955\n",
      "Epoch 3/10\n",
      "251/251 [==============================] - 77s 305ms/step - loss: 0.7210 - accuracy: 0.6671 - val_loss: 0.7271 - val_accuracy: 0.6327\n",
      "Epoch 4/10\n",
      "251/251 [==============================] - 76s 303ms/step - loss: 0.6906 - accuracy: 0.6755 - val_loss: 0.6616 - val_accuracy: 0.6901\n",
      "Epoch 5/10\n",
      "251/251 [==============================] - 73s 292ms/step - loss: 0.6612 - accuracy: 0.7009 - val_loss: 0.6847 - val_accuracy: 0.6639\n",
      "Epoch 6/10\n",
      "251/251 [==============================] - 74s 294ms/step - loss: 0.6427 - accuracy: 0.7129 - val_loss: 0.6246 - val_accuracy: 0.7143\n",
      "Epoch 7/10\n",
      "251/251 [==============================] - 73s 291ms/step - loss: 0.6322 - accuracy: 0.7142 - val_loss: 0.6567 - val_accuracy: 0.7375\n",
      "Epoch 8/10\n",
      "251/251 [==============================] - 73s 291ms/step - loss: 0.6118 - accuracy: 0.7234 - val_loss: 0.6306 - val_accuracy: 0.6861\n",
      "Epoch 9/10\n",
      "251/251 [==============================] - 74s 295ms/step - loss: 0.5981 - accuracy: 0.7273 - val_loss: 0.5984 - val_accuracy: 0.7143\n",
      "Epoch 10/10\n",
      "251/251 [==============================] - 76s 304ms/step - loss: 0.5858 - accuracy: 0.7309 - val_loss: 0.5880 - val_accuracy: 0.7622\n"
     ]
    },
    {
     "data": {
      "text/plain": [
       "<tensorflow.python.keras.callbacks.History at 0x18bb65b96d0>"
      ]
     },
     "execution_count": 7,
     "metadata": {},
     "output_type": "execute_result"
    }
   ],
   "source": [
    "#training the cnn with the training dataset\n",
    "cnn.fit(x = training_set,validation_data = test_set,batch_size = 32,epochs = 10)"
   ]
  },
  {
   "cell_type": "code",
   "execution_count": 8,
   "metadata": {},
   "outputs": [
    {
     "name": "stdout",
     "output_type": "stream",
     "text": [
      "The image classified is dog\n"
     ]
    }
   ],
   "source": [
    "#to test a single image from the test dataset\n",
    "import numpy as np\n",
    "from tensorflow.keras.preprocessing import image\n",
    "\n",
    "\n",
    "test_image = image.load_img('D:dataset/test_set/test_set/dogs/dog.4014.jpg', target_size = (64,64))\n",
    "test_image = image.img_to_array(test_image)\n",
    "test_image=test_image/255\n",
    "test_image = np.expand_dims(test_image, axis = 0)\n",
    "\n",
    "result = cnn.predict(test_image)\n",
    "\n",
    "\n",
    "if result[0]<0:\n",
    "    print(\"The image classified is cat\")\n",
    "else:\n",
    "    print(\"The image classified is dog\")"
   ]
  },
  {
   "cell_type": "code",
   "execution_count": 10,
   "metadata": {},
   "outputs": [
    {
     "data": {
      "text/plain": [
       "array([[2.1108167]], dtype=float32)"
      ]
     },
     "execution_count": 10,
     "metadata": {},
     "output_type": "execute_result"
    }
   ],
   "source": [
    "result"
   ]
  },
  {
   "cell_type": "code",
   "execution_count": 21,
   "metadata": {},
   "outputs": [
    {
     "name": "stdout",
     "output_type": "stream",
     "text": [
      "The image classified is cat\n"
     ]
    }
   ],
   "source": [
    "# testing second image\n",
    "test = image.load_img('D:dataset/test_set/test_set/cats/cat.4095.jpg', target_size = (64,64))\n",
    "test = image.img_to_array(test)\n",
    "test=test/255\n",
    "test = np.expand_dims(test, axis = 0)\n",
    "\n",
    "result1 = cnn.predict(test)\n",
    "\n",
    "\n",
    "if result1[0]<0:\n",
    "    print(\"The image classified is cat\")\n",
    "else:\n",
    "    print(\"The image classified is dog\")"
   ]
  },
  {
   "cell_type": "code",
   "execution_count": 22,
   "metadata": {},
   "outputs": [
    {
     "data": {
      "text/plain": [
       "array([[-0.8039754]], dtype=float32)"
      ]
     },
     "execution_count": 22,
     "metadata": {},
     "output_type": "execute_result"
    }
   ],
   "source": [
    "result1"
   ]
  },
  {
   "cell_type": "code",
   "execution_count": null,
   "metadata": {},
   "outputs": [],
   "source": []
  }
 ],
 "metadata": {
  "kernelspec": {
   "display_name": "Python 3",
   "language": "python",
   "name": "python3"
  },
  "language_info": {
   "codemirror_mode": {
    "name": "ipython",
    "version": 3
   },
   "file_extension": ".py",
   "mimetype": "text/x-python",
   "name": "python",
   "nbconvert_exporter": "python",
   "pygments_lexer": "ipython3",
   "version": "3.8.5"
  }
 },
 "nbformat": 4,
 "nbformat_minor": 4
}
